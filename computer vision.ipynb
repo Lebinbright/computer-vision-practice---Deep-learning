{
 "cells": [
  {
   "cell_type": "code",
   "execution_count": 6,
   "id": "67b32e99-a57a-4f1a-bcb9-814f30d876c4",
   "metadata": {},
   "outputs": [],
   "source": [
    "#Reading the image\n",
    "import cv2\n",
    "import numpy as np\n",
    "\n",
    "#read the image\n",
    "image=cv2.imread(r\"C:\\Users\\ANGELIN\\Downloads\\VIRAT.jpeg\")\n",
    "\n",
    "cv2.imshow('virat',image) \n",
    "cv2.waitKey(0)\n",
    "cv2.destroyAllWindows()\n"
   ]
  },
  {
   "cell_type": "code",
   "execution_count": 7,
   "id": "bf07255d-93e3-4089-976a-099c18f666c4",
   "metadata": {},
   "outputs": [],
   "source": [
    "#UNCHANGED\n",
    "image=cv2.imread(r\"C:\\Users\\ANGELIN\\Downloads\\VIRAT.jpeg\",cv2.IMREAD_UNCHANGED)\n",
    "cv2.imshow('virat1',image)\n",
    "cv2.waitKey(0)\n",
    "cv2.destroyAllWindows()\n"
   ]
  },
  {
   "cell_type": "code",
   "execution_count": 9,
   "id": "562c1b01-4e86-4494-aab8-9b8d06b527d7",
   "metadata": {},
   "outputs": [],
   "source": [
    "#GRAY SCALE\n",
    "image=cv2.imread(r\"C:\\Users\\ANGELIN\\Downloads\\VIRAT.jpeg\",cv2.IMREAD_GRAYSCALE)\n",
    "cv2.imshow('virat2',image)\n",
    "cv2.waitKey(0)\n",
    "cv2.destroyAllWindows()"
   ]
  },
  {
   "cell_type": "code",
   "execution_count": 5,
   "id": "b356492c-97f1-4de0-9fea-e4c1141e52e6",
   "metadata": {},
   "outputs": [
    {
     "name": "stdout",
     "output_type": "stream",
     "text": [
      "(231, 218, 3)\n"
     ]
    }
   ],
   "source": [
    "#GETTING DIMENSION OF THE IMAGE\n",
    "image=cv2.imread(r\"C:\\Users\\ANGELIN\\Downloads\\VIRAT.jpeg\",cv2.IMREAD_UNCHANGED)\n",
    "cv2.imshow('virat3',image)\n",
    "dim=image.shape\n",
    "print(dim)\n",
    "cv2.waitKey(0)\n",
    "cv2.destroyAllWindows()\n"
   ]
  },
  {
   "cell_type": "code",
   "execution_count": 11,
   "id": "ad99e127-2226-428a-bec1-698caca9650a",
   "metadata": {},
   "outputs": [],
   "source": [
    "#EDGE DETECTION\n",
    "image=cv2.imread(r\"C:\\Users\\ANGELIN\\Downloads\\VIRAT.jpeg\",cv2.IMREAD_UNCHANGED)\n",
    "edge=cv2.Canny(image,100,120)\n",
    "cv2.imshow('edge detection',edge)\n",
    "cv2.waitKey(0)\n",
    "cv2.destroyAllWindows()"
   ]
  },
  {
   "cell_type": "code",
   "execution_count": 17,
   "id": "d40ee35f-0b9f-451d-83cd-2f5c5046b63c",
   "metadata": {},
   "outputs": [],
   "source": [
    "#VERTICAL CONCATINATION\n",
    "img1=cv2.imread(r\"C:\\Users\\ANGELIN\\Downloads\\LEBIN coat add.jpg\")\n",
    "img2=cv2.imread(r\"C:\\Users\\ANGELIN\\Downloads\\LEBIN coat add.jpg\")\n",
    "\n",
    "new=cv2.vconcat([img1,img2])\n",
    "cv2.imwrite(r\"C:\\Users\\ANGELIN\\Downloads\\LEBIN coat add vconcat.jpg\",new)\n",
    "\n",
    "cv2.waitKey(0)\n",
    "cv2.destroyAllWindows()"
   ]
  },
  {
   "cell_type": "code",
   "execution_count": 19,
   "id": "48e3e1a1-2c16-4dc9-89f8-f2ae9ea370aa",
   "metadata": {},
   "outputs": [],
   "source": [
    "#HORIZONTAL CONCATINATION\n",
    "\n",
    "img1=cv2.imread(r\"C:\\Users\\ANGELIN\\Downloads\\LEBIN coat add.jpg\")\n",
    "img2=cv2.imread(r\"C:\\Users\\ANGELIN\\Downloads\\LEBIN coat add.jpg\")\n",
    "\n",
    "new=cv2.hconcat([img1,img2])\n",
    "cv2.imwrite(r\"C:\\Users\\ANGELIN\\Downloads\\LEBIN coat add hconcat.jpg\",new)\n",
    "\n",
    "cv2.waitKey(0)\n",
    "cv2.destroyAllWindows()"
   ]
  },
  {
   "cell_type": "code",
   "execution_count": 24,
   "id": "18790fa2-f87c-4fda-985d-3d1bcd229a27",
   "metadata": {},
   "outputs": [],
   "source": [
    "#TILE\n",
    "\n",
    "img1=cv2.imread(r\"C:\\Users\\ANGELIN\\Downloads\\LEBIN coat add (1).jpg\")\n",
    "new=np.tile(img1,(5,4,1))\n",
    "cv2.imwrite(r\"C:\\Users\\ANGELIN\\Downloads\\LEBIN coat add (1) tile.jpg\",new)\n",
    "\n",
    "cv2.waitKey(0)\n",
    "cv2.destroyAllWindows()"
   ]
  },
  {
   "cell_type": "code",
   "execution_count": 25,
   "id": "a5e413ca-747b-475f-8cb7-925653ffa8ea",
   "metadata": {},
   "outputs": [],
   "source": [
    "#FLIPPING AN IMAGE\n",
    "#HORIZONTAL FLIP\n",
    "img=cv2.imread(r\"C:\\Users\\ANGELIN\\Downloads\\LEBIN coat add (1).jpg\")\n",
    "new=cv2.flip(image,0)\n",
    "cv2.imshow('h flip',new)\n",
    "cv2.waitKey(0)\n",
    "cv2.destroyAllWindows()"
   ]
  },
  {
   "cell_type": "code",
   "execution_count": 26,
   "id": "c6a05031-bc64-4b96-9142-616b67d3c56a",
   "metadata": {},
   "outputs": [],
   "source": [
    "#FLIPPING AN IMAGE\n",
    "#VERTICAL FLIP\n",
    "img=cv2.imread(r\"C:\\Users\\ANGELIN\\Downloads\\LEBIN coat add (1).jpg\")\n",
    "new=cv2.flip(image,1)\n",
    "cv2.imshow('V flip',new)\n",
    "cv2.waitKey(0)\n",
    "cv2.destroyAllWindows()"
   ]
  },
  {
   "cell_type": "code",
   "execution_count": null,
   "id": "4dbf06a3-ce9c-4a23-b33b-37ab04e620a8",
   "metadata": {},
   "outputs": [],
   "source": []
  }
 ],
 "metadata": {
  "kernelspec": {
   "display_name": "Python 3 (ipykernel)",
   "language": "python",
   "name": "python3"
  },
  "language_info": {
   "codemirror_mode": {
    "name": "ipython",
    "version": 3
   },
   "file_extension": ".py",
   "mimetype": "text/x-python",
   "name": "python",
   "nbconvert_exporter": "python",
   "pygments_lexer": "ipython3",
   "version": "3.12.3"
  }
 },
 "nbformat": 4,
 "nbformat_minor": 5
}
