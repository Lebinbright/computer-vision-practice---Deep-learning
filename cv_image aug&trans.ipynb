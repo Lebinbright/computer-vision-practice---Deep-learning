{
 "cells": [
  {
   "cell_type": "code",
   "execution_count": 6,
   "id": "145e89fb-1d4b-466f-b1f5-2cfe909bcb36",
   "metadata": {},
   "outputs": [],
   "source": [
    "#image translation (applying shifting transformation over given image- )\n",
    "\n",
    "import cv2\n",
    "import numpy as np \n",
    "import imutils # imutils - image utilities library\n",
    "jeep = cv2.imread(r\"C:\\Users\\ANGELIN\\Downloads\\LEBIN coat add (1).jpg\")\n",
    "# create translation matrix\n",
    "TM = np.float32([[1,0,60],[0,1,60]])\n",
    "shift = cv2.warpAffine(jeep,TM,(jeep.shape[1],jeep.shape[0]))# 1 - width 0-height\n",
    "# warpAffine method is used to apply shifting transformation(moving right/left/right & down/right & up/ left & down....)\n",
    "cv2.imshow('shfited down and right',shift)\n",
    "cv2.waitKey(0)\n",
    "cv2.destroyAllWindows()"
   ]
  },
  {
   "cell_type": "code",
   "execution_count": 7,
   "id": "206494ad-7d6d-4be1-b223-19fb26d7ca74",
   "metadata": {},
   "outputs": [],
   "source": [
    "def translate(jeep,shiftX,shiftY):\n",
    "    TM = np.float32([[1,0,shiftX],[0,1,shiftY]])\n",
    "    shift = cv2.warpAffine(jeep,TM,(jeep.shape[1],jeep.shape[0]))\n",
    "    return shift\n"
   ]
  },
  {
   "cell_type": "code",
   "execution_count": 8,
   "id": "5fdd1b9f-9ebf-49c4-b6c3-ba71616ba52f",
   "metadata": {},
   "outputs": [],
   "source": [
    "shift1 = imutils.translate(jeep,0,100)\n",
    "cv2.imshow('shifted down',shift1)\n",
    "cv2.waitKey(0)\n",
    "cv2.destroyAllWindows()"
   ]
  },
  {
   "cell_type": "code",
   "execution_count": 9,
   "id": "64f4a9ba-1ee7-41a0-87e5-00cac0b9bfa0",
   "metadata": {},
   "outputs": [],
   "source": [
    "shift1 = imutils.translate(jeep,100,0)\n",
    "cv2.imshow('shifted only right',shift1)\n",
    "cv2.waitKey(0)\n",
    "cv2.destroyAllWindows()"
   ]
  },
  {
   "cell_type": "code",
   "execution_count": 10,
   "id": "ba36391a-1612-4cfc-81b1-71b7d7cab355",
   "metadata": {},
   "outputs": [],
   "source": [
    "shift2 = imutils.translate(jeep,-60,-60)\n",
    "cv2.imshow('shifted up and left',shift2)\n",
    "cv2.waitKey(0)\n",
    "cv2.destroyAllWindows()"
   ]
  },
  {
   "cell_type": "code",
   "execution_count": 11,
   "id": "47effcf2-8243-442b-89f7-2df5247975bf",
   "metadata": {},
   "outputs": [],
   "source": [
    "shift3 = imutils.translate(jeep,-60,60)\n",
    "cv2.imshow('shifted down and left',shift3)\n",
    "cv2.waitKey(0)\n",
    "cv2.destroyAllWindows()"
   ]
  },
  {
   "cell_type": "code",
   "execution_count": null,
   "id": "574f9ed3-2fd9-4ba9-9449-fde5957bc204",
   "metadata": {},
   "outputs": [],
   "source": [
    "shift4 = imutils.translate(jeep,60,-60)\n",
    "cv2.imshow('shifted up and right',shift4)\n",
    "cv2.waitKey(0)\n",
    "cv2.destroyAllWindows()"
   ]
  },
  {
   "cell_type": "code",
   "execution_count": null,
   "id": "8b398d45-f821-4448-89fa-789b596a9786",
   "metadata": {},
   "outputs": [],
   "source": []
  }
 ],
 "metadata": {
  "kernelspec": {
   "display_name": "Python 3 (ipykernel)",
   "language": "python",
   "name": "python3"
  },
  "language_info": {
   "codemirror_mode": {
    "name": "ipython",
    "version": 3
   },
   "file_extension": ".py",
   "mimetype": "text/x-python",
   "name": "python",
   "nbconvert_exporter": "python",
   "pygments_lexer": "ipython3",
   "version": "3.12.3"
  }
 },
 "nbformat": 4,
 "nbformat_minor": 5
}
